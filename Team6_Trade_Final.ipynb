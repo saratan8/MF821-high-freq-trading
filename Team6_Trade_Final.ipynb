{
 "cells": [
  {
   "cell_type": "code",
   "execution_count": 150,
   "id": "e5cd8c9b",
   "metadata": {},
   "outputs": [],
   "source": [
    "import pandas as pd\n",
    "import numpy as np\n",
    "import matplotlib.pyplot as plt\n",
    "from datetime import date"
   ]
  },
  {
   "cell_type": "markdown",
   "id": "86fd1d47",
   "metadata": {},
   "source": [
    "# Find Pairs"
   ]
  },
  {
   "cell_type": "code",
   "execution_count": 2,
   "id": "933b27d7",
   "metadata": {},
   "outputs": [],
   "source": [
    "#Data cleaning \n",
    "file_names_lst = [\"DIA.csv\", \"FEZ.csv\", \"IJH.csv\", \"IWD.csv\", \"IWF.csv\", \"IYY.csv\", \n",
    "                  \"IWM.csv\", \"IWN.csv\", \"IWO.csv\", \"MDY.csv\", \"OEF.csv\", \"SPY.csv\", \"VTI.csv\", \"QQQ.csv\",\n",
    "                  \"FTEC.csv\", \"IYW.csv\", \"VITAX.csv\", \"XLK.csv\",\n",
    "                  \"XLV.csv\", \"IYH.csv\", \"VHT.csv\", \"XBI.csv\", \"IHI.csv\",\n",
    "                  \"XLF.csv\", \"IYG.csv\", \"VFH.csv\", \"KIE.csv\",\n",
    "                  \"XLE.csv\", \"IYE.csv\", \"VDE.csv\", \"XOP.csv\"]\n",
    "#Line 1 & 2: stock index #Line 3, Tech ETF. Line 4, Health Care ETF. #Line5, fin service. #Line6 engergy.\n",
    "equity_names_lst = [\"DIA\", \"FEZ\", \"IJH\", \"IWD\", \"IWF\", \"IYY\",\n",
    "                    \"IWM\", \"IWN\", \"IWO\", \"MDY\", \"OEF\", \"QQQ\", \"SPY\", \"VTI\",\n",
    "                    \"FTEC\", \"IYW\", \"VITAX\", \"XLK\",\n",
    "                    \"XLV\", \"IYH\", \"VHT\", \"XBI\", \"IHI\",\n",
    "                    \"XLF\", \"IYG\", \"VFH\", \"KIE\",\n",
    "                    \"XLE\", \"IYE\", \"VDE\", \"XOP\"]\n",
    "uni_daily_prices = pd.DataFrame() # Dataframe with daily Adj Close\n",
    "uni_daily_handl_prices = pd.DataFrame() # Dataframe with daily high and daily low\n",
    "uni_daily_range = pd.DataFrame() # Dataframe with daily range(calculated by ln(high/low))\n",
    "for i in range(len(file_names_lst)):\n",
    "    file_name = file_names_lst[i]\n",
    "    equity_name = equity_names_lst[i]\n",
    "    df = pd.read_csv(\"Data/\"+file_name)\n",
    "    df = df[['Date', 'Adj Close', 'High', 'Low']]\n",
    "    df['Daily Range'] = np.log(df[\"High\"]/df[\"Low\"])\n",
    "    df['Date'] = pd.to_datetime(df['Date'])\n",
    "    cutoff_date = pd.to_datetime('2007-01-01')\n",
    "    df = df.loc[df['Date'] > cutoff_date, :]\n",
    "    if i == 0:\n",
    "        uni_daily_prices['Date'] = df['Date']\n",
    "        uni_daily_handl_prices['Date'] = df['Date']\n",
    "        uni_daily_range['Date'] = df['Date']\n",
    "        uni_daily_prices.set_index('Date', inplace=True)\n",
    "        uni_daily_handl_prices.set_index('Date', inplace=True)\n",
    "        uni_daily_range.set_index('Date', inplace=True)\n",
    "    df.set_index('Date', inplace=True)\n",
    "    uni_daily_prices[equity_name] = df[\"Adj Close\"]\n",
    "    uni_daily_handl_prices[equity_name + \" High\"] = df[\"High\"]\n",
    "    uni_daily_handl_prices[equity_name + \" Low\"] = df[\"Low\"]\n",
    "    uni_daily_range[equity_name] = df[\"Daily Range\"]\n",
    "uni_daily_returns_df = uni_daily_prices.pct_change()\n",
    "uni_monthly_prices = uni_daily_prices.resample('M').last()\n",
    "uni_monthly_returns_df = uni_monthly_prices.pct_change()\n",
    "uni_daily_returns_df = uni_daily_returns_df.iloc[1:]"
   ]
  },
  {
   "cell_type": "code",
   "execution_count": 3,
   "id": "ba6e30aa",
   "metadata": {},
   "outputs": [
    {
     "data": {
      "text/html": [
       "<div>\n",
       "<style scoped>\n",
       "    .dataframe tbody tr th:only-of-type {\n",
       "        vertical-align: middle;\n",
       "    }\n",
       "\n",
       "    .dataframe tbody tr th {\n",
       "        vertical-align: top;\n",
       "    }\n",
       "\n",
       "    .dataframe thead th {\n",
       "        text-align: right;\n",
       "    }\n",
       "</style>\n",
       "<table border=\"1\" class=\"dataframe\">\n",
       "  <thead>\n",
       "    <tr style=\"text-align: right;\">\n",
       "      <th></th>\n",
       "      <th>DIA</th>\n",
       "      <th>FEZ</th>\n",
       "      <th>IJH</th>\n",
       "      <th>IWD</th>\n",
       "      <th>IWF</th>\n",
       "      <th>IYY</th>\n",
       "      <th>IWM</th>\n",
       "      <th>IWN</th>\n",
       "      <th>IWO</th>\n",
       "      <th>MDY</th>\n",
       "      <th>...</th>\n",
       "      <th>XBI</th>\n",
       "      <th>IHI</th>\n",
       "      <th>XLF</th>\n",
       "      <th>IYG</th>\n",
       "      <th>VFH</th>\n",
       "      <th>KIE</th>\n",
       "      <th>XLE</th>\n",
       "      <th>IYE</th>\n",
       "      <th>VDE</th>\n",
       "      <th>XOP</th>\n",
       "    </tr>\n",
       "    <tr>\n",
       "      <th>Date</th>\n",
       "      <th></th>\n",
       "      <th></th>\n",
       "      <th></th>\n",
       "      <th></th>\n",
       "      <th></th>\n",
       "      <th></th>\n",
       "      <th></th>\n",
       "      <th></th>\n",
       "      <th></th>\n",
       "      <th></th>\n",
       "      <th></th>\n",
       "      <th></th>\n",
       "      <th></th>\n",
       "      <th></th>\n",
       "      <th></th>\n",
       "      <th></th>\n",
       "      <th></th>\n",
       "      <th></th>\n",
       "      <th></th>\n",
       "      <th></th>\n",
       "      <th></th>\n",
       "    </tr>\n",
       "  </thead>\n",
       "  <tbody>\n",
       "    <tr>\n",
       "      <th>2007-01-04</th>\n",
       "      <td>0.001688</td>\n",
       "      <td>-0.000548</td>\n",
       "      <td>-0.001115</td>\n",
       "      <td>-0.002307</td>\n",
       "      <td>0.005618</td>\n",
       "      <td>0.002039</td>\n",
       "      <td>0.002687</td>\n",
       "      <td>0.001496</td>\n",
       "      <td>0.002924</td>\n",
       "      <td>0.001156</td>\n",
       "      <td>...</td>\n",
       "      <td>NaN</td>\n",
       "      <td>0.003151</td>\n",
       "      <td>-0.003250</td>\n",
       "      <td>-0.001491</td>\n",
       "      <td>-0.000457</td>\n",
       "      <td>NaN</td>\n",
       "      <td>-0.018205</td>\n",
       "      <td>-0.018872</td>\n",
       "      <td>-0.020548</td>\n",
       "      <td>-0.013100</td>\n",
       "    </tr>\n",
       "    <tr>\n",
       "      <th>2007-01-05</th>\n",
       "      <td>-0.007539</td>\n",
       "      <td>-0.017393</td>\n",
       "      <td>-0.011289</td>\n",
       "      <td>-0.007908</td>\n",
       "      <td>-0.006668</td>\n",
       "      <td>-0.008433</td>\n",
       "      <td>-0.020927</td>\n",
       "      <td>-0.020408</td>\n",
       "      <td>-0.020791</td>\n",
       "      <td>-0.011272</td>\n",
       "      <td>...</td>\n",
       "      <td>NaN</td>\n",
       "      <td>-0.003730</td>\n",
       "      <td>-0.007881</td>\n",
       "      <td>-0.006641</td>\n",
       "      <td>-0.010077</td>\n",
       "      <td>NaN</td>\n",
       "      <td>0.006660</td>\n",
       "      <td>0.006342</td>\n",
       "      <td>0.007617</td>\n",
       "      <td>0.009403</td>\n",
       "    </tr>\n",
       "    <tr>\n",
       "      <th>2007-01-08</th>\n",
       "      <td>0.003232</td>\n",
       "      <td>0.000559</td>\n",
       "      <td>0.001757</td>\n",
       "      <td>0.003434</td>\n",
       "      <td>0.004354</td>\n",
       "      <td>0.004399</td>\n",
       "      <td>-0.003909</td>\n",
       "      <td>0.000127</td>\n",
       "      <td>0.003107</td>\n",
       "      <td>0.000137</td>\n",
       "      <td>...</td>\n",
       "      <td>NaN</td>\n",
       "      <td>0.009852</td>\n",
       "      <td>0.004382</td>\n",
       "      <td>0.004057</td>\n",
       "      <td>0.003856</td>\n",
       "      <td>NaN</td>\n",
       "      <td>0.000000</td>\n",
       "      <td>0.002067</td>\n",
       "      <td>0.000620</td>\n",
       "      <td>0.004384</td>\n",
       "    </tr>\n",
       "    <tr>\n",
       "      <th>2007-01-09</th>\n",
       "      <td>-0.000564</td>\n",
       "      <td>-0.002421</td>\n",
       "      <td>0.004384</td>\n",
       "      <td>-0.002811</td>\n",
       "      <td>0.001265</td>\n",
       "      <td>0.000000</td>\n",
       "      <td>0.009420</td>\n",
       "      <td>0.003557</td>\n",
       "      <td>0.005550</td>\n",
       "      <td>0.005700</td>\n",
       "      <td>...</td>\n",
       "      <td>NaN</td>\n",
       "      <td>0.006439</td>\n",
       "      <td>-0.001636</td>\n",
       "      <td>-0.000973</td>\n",
       "      <td>-0.001690</td>\n",
       "      <td>NaN</td>\n",
       "      <td>-0.008583</td>\n",
       "      <td>-0.010207</td>\n",
       "      <td>-0.010652</td>\n",
       "      <td>-0.010366</td>\n",
       "    </tr>\n",
       "    <tr>\n",
       "      <th>2007-01-10</th>\n",
       "      <td>0.002902</td>\n",
       "      <td>-0.010827</td>\n",
       "      <td>0.005612</td>\n",
       "      <td>0.001348</td>\n",
       "      <td>0.006855</td>\n",
       "      <td>0.002189</td>\n",
       "      <td>0.007778</td>\n",
       "      <td>0.001898</td>\n",
       "      <td>0.004877</td>\n",
       "      <td>0.006896</td>\n",
       "      <td>...</td>\n",
       "      <td>NaN</td>\n",
       "      <td>0.002715</td>\n",
       "      <td>0.003278</td>\n",
       "      <td>0.001797</td>\n",
       "      <td>0.003386</td>\n",
       "      <td>NaN</td>\n",
       "      <td>-0.019300</td>\n",
       "      <td>-0.016875</td>\n",
       "      <td>-0.014021</td>\n",
       "      <td>-0.018743</td>\n",
       "    </tr>\n",
       "  </tbody>\n",
       "</table>\n",
       "<p>5 rows × 31 columns</p>\n",
       "</div>"
      ],
      "text/plain": [
       "                 DIA       FEZ       IJH       IWD       IWF       IYY  \\\n",
       "Date                                                                     \n",
       "2007-01-04  0.001688 -0.000548 -0.001115 -0.002307  0.005618  0.002039   \n",
       "2007-01-05 -0.007539 -0.017393 -0.011289 -0.007908 -0.006668 -0.008433   \n",
       "2007-01-08  0.003232  0.000559  0.001757  0.003434  0.004354  0.004399   \n",
       "2007-01-09 -0.000564 -0.002421  0.004384 -0.002811  0.001265  0.000000   \n",
       "2007-01-10  0.002902 -0.010827  0.005612  0.001348  0.006855  0.002189   \n",
       "\n",
       "                 IWM       IWN       IWO       MDY  ...  XBI       IHI  \\\n",
       "Date                                                ...                  \n",
       "2007-01-04  0.002687  0.001496  0.002924  0.001156  ...  NaN  0.003151   \n",
       "2007-01-05 -0.020927 -0.020408 -0.020791 -0.011272  ...  NaN -0.003730   \n",
       "2007-01-08 -0.003909  0.000127  0.003107  0.000137  ...  NaN  0.009852   \n",
       "2007-01-09  0.009420  0.003557  0.005550  0.005700  ...  NaN  0.006439   \n",
       "2007-01-10  0.007778  0.001898  0.004877  0.006896  ...  NaN  0.002715   \n",
       "\n",
       "                 XLF       IYG       VFH  KIE       XLE       IYE       VDE  \\\n",
       "Date                                                                          \n",
       "2007-01-04 -0.003250 -0.001491 -0.000457  NaN -0.018205 -0.018872 -0.020548   \n",
       "2007-01-05 -0.007881 -0.006641 -0.010077  NaN  0.006660  0.006342  0.007617   \n",
       "2007-01-08  0.004382  0.004057  0.003856  NaN  0.000000  0.002067  0.000620   \n",
       "2007-01-09 -0.001636 -0.000973 -0.001690  NaN -0.008583 -0.010207 -0.010652   \n",
       "2007-01-10  0.003278  0.001797  0.003386  NaN -0.019300 -0.016875 -0.014021   \n",
       "\n",
       "                 XOP  \n",
       "Date                  \n",
       "2007-01-04 -0.013100  \n",
       "2007-01-05  0.009403  \n",
       "2007-01-08  0.004384  \n",
       "2007-01-09 -0.010366  \n",
       "2007-01-10 -0.018743  \n",
       "\n",
       "[5 rows x 31 columns]"
      ]
     },
     "execution_count": 3,
     "metadata": {},
     "output_type": "execute_result"
    }
   ],
   "source": [
    "uni_daily_returns_df.head()"
   ]
  },
  {
   "cell_type": "code",
   "execution_count": 4,
   "id": "6b570e8c",
   "metadata": {},
   "outputs": [],
   "source": [
    "def SSD(df):\n",
    "    ssd_df = pd.DataFrame(index = ['SSD'])\n",
    "    for i in range(len(df.columns)):\n",
    "        for j in range(i+1, len(df.columns)):\n",
    "            # calculate SSD between columns i and j\n",
    "            col1 = df.iloc[:, i]\n",
    "            col2 = df.iloc[:, j]\n",
    "            ssd = ((col1 - col2) ** 2).sum()\n",
    "            \n",
    "            # store result in ssd_df\n",
    "            colname = f\"{df.columns[i]}-{df.columns[j]}\"\n",
    "            ssd_df[colname] = [ssd]\n",
    "    \n",
    "    return ssd_df\n",
    "\n",
    "from scipy.stats import kendalltau\n",
    "\n",
    "def Kendall_Tau(df):\n",
    "    kendall_df = pd.DataFrame(index = ['KT'])\n",
    "    # iterate over column pairs\n",
    "    for i in range(len(df.columns)):\n",
    "        for j in range(i+1, len(df.columns)):\n",
    "            # calculate Kendall tau correlation between columns i and j\n",
    "            col1 = df.iloc[:, i]\n",
    "            col2 = df.iloc[:, j]\n",
    "            tau, pval = kendalltau(col1, col2)\n",
    "            # store result in kendall_df\n",
    "            colname = f\"{df.columns[i]}-{df.columns[j]}\"\n",
    "            kendall_df[colname] = [tau]\n",
    "    # print results\n",
    "    return kendall_df"
   ]
  },
  {
   "cell_type": "markdown",
   "id": "bf97fbc0",
   "metadata": {},
   "source": [
    "# Select Pairs for General Stock indexes"
   ]
  },
  {
   "cell_type": "code",
   "execution_count": 5,
   "id": "09e86034",
   "metadata": {},
   "outputs": [
    {
     "name": "stdout",
     "output_type": "stream",
     "text": [
      "               KT\n",
      "IJH-MDY  0.954705\n",
      "IYY-SPY  0.924421\n",
      "QQQ-SPY  0.919160\n",
      "IYY-QQQ  0.917013\n",
      "OEF-QQQ  0.887501\n",
      "IWM-IWO  0.872697\n",
      "IWM-IWN  0.866647\n",
      "OEF-SPY  0.863260\n",
      "IYY-OEF  0.857171\n",
      "IWF-SPY  0.827379\n",
      "Maximum KT value(daily) is 0.9547053063498474 in column 'IJH-MDY'\n"
     ]
    }
   ],
   "source": [
    "names_l = [\"DIA\", \"FEZ\", \"IJH\", \"IWD\", \"IWF\", \"IYY\", \"IWM\", \"IWN\", \"IWO\", \"MDY\", \"OEF\", \"QQQ\", \"SPY\", \"VTI\",]\n",
    "kt_daily_df = Kendall_Tau(uni_daily_returns_df[names_l]).T\n",
    "max_kt_daily = kt_daily_df.idxmax(axis=0)[0]\n",
    "kt_daily_df.sort_values(by='KT', ascending=False, inplace=True)\n",
    "\n",
    "print(kt_daily_df[:10])\n",
    "print(f\"Maximum KT value(daily) is {kt_daily_df['KT'][max_kt_daily]} in column '{max_kt_daily}'\")"
   ]
  },
  {
   "cell_type": "markdown",
   "id": "8d57f4ac",
   "metadata": {},
   "source": [
    "## Selected:\n",
    "IJH-MDY -- iShares Core S&P Mid-Cap ETF & SPDR S&P MIDCAP 400 ETF \\\n",
    "IYY-SPY -- iShares Dow Jones U.S. ETF & SPDR S&P 500 ETF Trust\\\n",
    "OEF-QQQ -- iShares S&P 100 ETF & Invesco Nasdaq-100 ETF\\\n",
    "IWM-IWO -- iShares Russell 1000 Value ETF & iShares Russell 2000 Growth ETF"
   ]
  },
  {
   "cell_type": "markdown",
   "id": "24f7c41b",
   "metadata": {},
   "source": [
    "# Select Pairs for Specific Industry ETFs"
   ]
  },
  {
   "cell_type": "code",
   "execution_count": 6,
   "id": "a032537c",
   "metadata": {},
   "outputs": [
    {
     "name": "stdout",
     "output_type": "stream",
     "text": [
      "                 KT\n",
      "IYE-VDE    0.946204\n",
      "XLE-IYE    0.935025\n",
      "XLE-VDE    0.932510\n",
      "IYW-VITAX  0.919397\n",
      "XLF-VFH    0.911629\n",
      "VITAX-XLK  0.890166\n",
      "XLF-IYG    0.879840\n",
      "IYG-VFH    0.875434\n",
      "IYW-XLK    0.872044\n",
      "XLV-VHT    0.864693\n",
      "Maximum KT value(daily) is 0.9462039299418779 in column 'IYE-VDE'\n"
     ]
    },
    {
     "name": "stderr",
     "output_type": "stream",
     "text": [
      "C:\\Users\\12451\\AppData\\Local\\Temp/ipykernel_26372/1646480107.py:29: PerformanceWarning: DataFrame is highly fragmented.  This is usually the result of calling `frame.insert` many times, which has poor performance.  Consider joining all columns at once using pd.concat(axis=1) instead.  To get a de-fragmented frame, use `newframe = frame.copy()`\n",
      "  kendall_df[colname] = [tau]\n"
     ]
    }
   ],
   "source": [
    "names_l = [\"FTEC\", \"IYW\", \"VITAX\", \"XLK\",\n",
    "                    \"XLV\", \"IYH\", \"VHT\", \"XBI\", \"IHI\",\n",
    "                    \"XLF\", \"IYG\", \"VFH\", \"KIE\",\n",
    "                    \"XLE\", \"IYE\", \"VDE\", \"XOP\"]\n",
    "kt_daily_df = Kendall_Tau(uni_daily_returns_df[names_l]).T\n",
    "max_kt_daily = kt_daily_df.idxmax(axis=0)[0]\n",
    "kt_daily_df.sort_values(by='KT', ascending=False, inplace=True)\n",
    "\n",
    "print(kt_daily_df[:10])\n",
    "print(f\"Maximum KT value(daily) is {kt_daily_df['KT'][max_kt_daily]} in column '{max_kt_daily}'\")"
   ]
  },
  {
   "cell_type": "markdown",
   "id": "757fbecd",
   "metadata": {},
   "source": [
    "## Selected ETFs\n",
    "IYE-VDE -- iShares U.S. Energy ETF & Vanguard Energy Index Fund\\\n",
    "XLE-IYE -- Energy Select Sector SPDR Fund & iShares U.S. Energy ETF\\\n",
    "XLF-VFH -- Financial Select Sector SPDR Fund & Vanguard Financials Index Fund\\\n",
    "XLV-VHT -- Health Care Select Sector SPDR Fund & Vanguard Health Care Index Fund"
   ]
  },
  {
   "cell_type": "markdown",
   "id": "98eeb0d1",
   "metadata": {},
   "source": [
    "# Use R to fit copula for each pair"
   ]
  },
  {
   "cell_type": "code",
   "execution_count": 184,
   "id": "7399eb48",
   "metadata": {},
   "outputs": [],
   "source": [
    "index_pairs_l = [['IJH', 'MDY'], ['IYY', 'SPY'], ['OEF', 'QQQ'], ['IWM', 'IWO'], ['IYE', 'VDE'], ['XLE', 'IYE'],\n",
    "                 ['XLF', 'VFH'], ['XLV', 'VHT']]"
   ]
  },
  {
   "cell_type": "code",
   "execution_count": 19,
   "id": "08fefea4",
   "metadata": {},
   "outputs": [],
   "source": [
    "import rpy2.robjects as ro\n",
    "from rpy2.robjects import pandas2ri\n",
    "from rpy2.robjects.packages import importr, data\n",
    "pandas2ri.activate()"
   ]
  },
  {
   "cell_type": "code",
   "execution_count": 9,
   "id": "5e2ff9f1",
   "metadata": {},
   "outputs": [],
   "source": [
    "copula = importr('copula')\n",
    "VineCopula = importr('VineCopula')\n",
    "base = importr('base')\n",
    "utils = importr('utils')"
   ]
  },
  {
   "cell_type": "code",
   "execution_count": 52,
   "id": "3a3794ca",
   "metadata": {},
   "outputs": [],
   "source": [
    "def bestCopula(pair_names):\n",
    "    a1 = pd.DataFrame(uni_daily_returns_df[pair_names[0]])\n",
    "    a2 = pd.DataFrame(uni_daily_returns_df[pair_names[1]])\n",
    "    a1r = ro.conversion.py2rpy(a1)\n",
    "    a2r = ro.conversion.py2rpy(a2)\n",
    "    a1_pobs = copula.pobs(a1r)\n",
    "    a2_pobs = copula.pobs(a2r)\n",
    "    selectCopula = VineCopula.BiCopSelect(a1_pobs, a2_pobs)\n",
    "    base.summary(selectCopula)\n",
    "    return 0\n",
    "\n",
    "def fitTCopula(pair_names):\n",
    "    a1 = pd.DataFrame(uni_daily_returns_df[pair_names[0]])\n",
    "    a2 = pd.DataFrame(uni_daily_returns_df[pair_names[1]])\n",
    "    a1r = ro.conversion.py2rpy(a1)\n",
    "    a2r = ro.conversion.py2rpy(a2)\n",
    "    a1_pobs = copula.pobs(a1r)\n",
    "    a2_pobs = copula.pobs(a2r)\n",
    "    a1_pobs = a1_pobs.reshape(len(a1),)\n",
    "    a2_pobs = a2_pobs.reshape(len(a2),)\n",
    "    \n",
    "    temp_df = pd.DataFrame(list(zip(a1_pobs, a1_pobs)),\n",
    "                 columns=['a1','a12'],index=list(range(len(a1_pobs))) )\n",
    "    student_t_cop = copula.tCopula(dim = 2)\n",
    "    result = ro.r['fitCopula'](copula = student_t_cop, data = temp_df,\\\n",
    "                               method = 'ml', **{'optim.method': 'BFGS'})\n",
    "    return result"
   ]
  },
  {
   "cell_type": "code",
   "execution_count": 185,
   "id": "629dd49e",
   "metadata": {},
   "outputs": [
    {
     "name": "stdout",
     "output_type": "stream",
     "text": [
      "Family\n",
      "------ \n",
      "No:    2\n",
      "Name:  t\n",
      "\n",
      "Parameter(s)\n",
      "------------\n",
      "par:  1\n",
      "par2: 2\n",
      "Dependence measures\n",
      "-------------------\n",
      "Kendall's tau:    0.96 (empirical = 0.95, p value < 0.01)\n",
      "Upper TD:         0.96 \n",
      "Lower TD:         0.96 \n",
      "\n",
      "Fit statistics\n",
      "--------------\n",
      "logLik:  11410.79 \n",
      "AIC:    -22817.59 \n",
      "BIC:    -22804.95 \n",
      "\n",
      "Family\n",
      "------ \n",
      "No:    2\n",
      "Name:  t\n",
      "\n",
      "Parameter(s)\n",
      "------------\n",
      "par:  0.99\n",
      "par2: 2\n",
      "Dependence measures\n",
      "-------------------\n",
      "Kendall's tau:    0.93 (empirical = 0.92, p value < 0.01)\n",
      "Upper TD:         0.93 \n",
      "Lower TD:         0.93 \n",
      "\n",
      "Fit statistics\n",
      "--------------\n",
      "logLik:  9376.44 \n",
      "AIC:    -18748.87 \n",
      "BIC:    -18736.23 \n",
      "\n",
      "Family\n",
      "------ \n",
      "No:    2\n",
      "Name:  t\n",
      "\n",
      "Parameter(s)\n",
      "------------\n",
      "par:  0.99\n",
      "par2: 2\n",
      "Dependence measures\n",
      "-------------------\n",
      "Kendall's tau:    0.89 (empirical = 0.89, p value < 0.01)\n",
      "Upper TD:         0.89 \n",
      "Lower TD:         0.89 \n",
      "\n",
      "Fit statistics\n",
      "--------------\n",
      "logLik:  7634.8 \n",
      "AIC:    -15265.6 \n",
      "BIC:    -15252.96 \n",
      "\n",
      "Family\n",
      "------ \n",
      "No:    2\n",
      "Name:  t\n",
      "\n",
      "Parameter(s)\n",
      "------------\n",
      "par:  0.98\n",
      "par2: 2.71\n",
      "Dependence measures\n",
      "-------------------\n",
      "Kendall's tau:    0.87 (empirical = 0.87, p value < 0.01)\n",
      "Upper TD:         0.86 \n",
      "Lower TD:         0.86 \n",
      "\n",
      "Fit statistics\n",
      "--------------\n",
      "logLik:  6773.07 \n",
      "AIC:    -13542.14 \n",
      "BIC:    -13529.5 \n",
      "\n",
      "Family\n",
      "------ \n",
      "No:    2\n",
      "Name:  t\n",
      "\n",
      "Parameter(s)\n",
      "------------\n",
      "par:  1\n",
      "par2: 2.17\n",
      "Dependence measures\n",
      "-------------------\n",
      "Kendall's tau:    0.95 (empirical = 0.95, p value < 0.01)\n",
      "Upper TD:         0.94 \n",
      "Lower TD:         0.94 \n",
      "\n",
      "Fit statistics\n",
      "--------------\n",
      "logLik:  10285.78 \n",
      "AIC:    -20567.57 \n",
      "BIC:    -20554.93 \n",
      "\n",
      "Family\n",
      "------ \n",
      "No:    2\n",
      "Name:  t\n",
      "\n",
      "Parameter(s)\n",
      "------------\n",
      "par:  0.99\n",
      "par2: 2.14\n",
      "Dependence measures\n",
      "-------------------\n",
      "Kendall's tau:    0.93 (empirical = 0.94, p value < 0.01)\n",
      "Upper TD:         0.93 \n",
      "Lower TD:         0.93 \n",
      "\n",
      "Fit statistics\n",
      "--------------\n",
      "logLik:  9507.81 \n",
      "AIC:    -19011.63 \n",
      "BIC:    -18998.99 \n",
      "\n",
      "Family\n",
      "------ \n",
      "No:    2\n",
      "Name:  t\n",
      "\n",
      "Parameter(s)\n",
      "------------\n",
      "par:  0.99\n",
      "par2: 2.08\n",
      "Dependence measures\n",
      "-------------------\n",
      "Kendall's tau:    0.91 (empirical = 0.91, p value < 0.01)\n",
      "Upper TD:         0.91 \n",
      "Lower TD:         0.91 \n",
      "\n",
      "Fit statistics\n",
      "--------------\n",
      "logLik:  8322.5 \n",
      "AIC:    -16640.99 \n",
      "BIC:    -16628.36 \n",
      "\n",
      "Family\n",
      "------ \n",
      "No:    2\n",
      "Name:  t\n",
      "\n",
      "Parameter(s)\n",
      "------------\n",
      "par:  0.98\n",
      "par2: 2.07\n",
      "Dependence measures\n",
      "-------------------\n",
      "Kendall's tau:    0.86 (empirical = 0.86, p value < 0.01)\n",
      "Upper TD:         0.86 \n",
      "Lower TD:         0.86 \n",
      "\n",
      "Fit statistics\n",
      "--------------\n",
      "logLik:  6695.45 \n",
      "AIC:    -13386.9 \n",
      "BIC:    -13374.26 \n",
      "\n"
     ]
    }
   ],
   "source": [
    "for i in range(len(index_pairs_l)):\n",
    "    bestCopula(index_pairs_l[i])"
   ]
  },
  {
   "cell_type": "code",
   "execution_count": 266,
   "id": "a7430549",
   "metadata": {},
   "outputs": [],
   "source": [
    "kentall_tau_l = [0.96, 0.93, 0.89, 0.87, 0.95, 0.93, 0.91, 0.86]"
   ]
  },
  {
   "cell_type": "markdown",
   "id": "5c63fca8",
   "metadata": {},
   "source": [
    "We have 9 pairs and all of their return distributions fit to student-t copula the best."
   ]
  },
  {
   "cell_type": "code",
   "execution_count": 97,
   "id": "f146dd82",
   "metadata": {},
   "outputs": [],
   "source": [
    "def tCopProbs(pair_names):\n",
    "    student_t_cop = copula.tCopula(dim = 2)\n",
    "    a1 = pd.DataFrame(uni_daily_returns_df[pair_names[0]])\n",
    "    a2 = pd.DataFrame(uni_daily_returns_df[pair_names[1]])\n",
    "    a1r = ro.conversion.py2rpy(a1)\n",
    "    a2r = ro.conversion.py2rpy(a2)\n",
    "    a1_pobs = copula.pobs(a1r)\n",
    "    a2_pobs = copula.pobs(a2r)\n",
    "    a1_pobs = a1_pobs.reshape(len(a1),)\n",
    "    a2_pobs = a2_pobs.reshape(len(a2),)\n",
    "\n",
    "    temp_df = pd.DataFrame(list(zip(a1_pobs, a2_pobs)),\n",
    "                 columns=['a1','a2'],index=list(range(len(a1_pobs))) )\n",
    "\n",
    "    cop = ro.r['BiCopEst'](a1_pobs, a2_pobs, family = 2)\n",
    "    temp = ro.r['BiCopHfunc'](a1_pobs, a2_pobs, cop)\n",
    "    result = pd.DataFrame(temp).T\n",
    "    return result "
   ]
  },
  {
   "cell_type": "code",
   "execution_count": 186,
   "id": "ea7751b3",
   "metadata": {},
   "outputs": [],
   "source": [
    "pairs_probs_l = []\n",
    "for i in index_pairs_l:\n",
    "    pairs_probs_l.append(tCopProbs(i))"
   ]
  },
  {
   "cell_type": "markdown",
   "id": "5094f4d2",
   "metadata": {},
   "source": [
    "# Get Real Time Data"
   ]
  },
  {
   "cell_type": "code",
   "execution_count": 111,
   "id": "c5afe7e7",
   "metadata": {},
   "outputs": [],
   "source": [
    "from ibapi.client import EClient\n",
    "from ibapi.wrapper import EWrapper  \n",
    "from ibapi.contract import Contract\n",
    "from ibapi.order import *\n",
    "import threading\n",
    "import time\n",
    "import math"
   ]
  },
  {
   "cell_type": "code",
   "execution_count": 161,
   "id": "a69e2bab",
   "metadata": {},
   "outputs": [],
   "source": [
    "class IBapi(EWrapper, EClient):\n",
    "    def __init__(self):\n",
    "        EClient.__init__(self, self)\n",
    "        self.returns_l = []\n",
    "    \n",
    "    def historicalData(self, reqId, bar):\n",
    "        daily_r = bar.close/bar.open - 1\n",
    "        self.returns_l.append(daily_r)\n",
    "        print(\"Added a return\")\n",
    "    \n",
    "    def historicalDataEnd(self, reqId, start, end):\n",
    "        print(\"Successfully got data of reqID \" + str(reqId))\n",
    "        \n",
    "    def nextValidId(self, orderId: int):\n",
    "        super().nextValidId(orderId)\n",
    "        self.nextorderId = orderId\n",
    "        print('The next valid order id is: ', self.nextorderId)\n",
    "   \n",
    "    def openOrder(self, orderId, contract, order, orderState):\n",
    "        print('openOrder id:', orderId, contract.symbol, contract.secType, '@', contract.exchange, ':', order.action, order.orderType, order.totalQuantity, orderState.status)\n",
    " \n",
    "    def orderStatus(self, orderId, status, filled, remaining, avgFillPrice, permId, parentId, lastFillPrice, clientId, whyHeld, mktCapPrice):\n",
    "        #print(f\"orderId: {orderId}, status: {status}, filled: {filled}, remaining: {remaining}, avgFillPrice: {avgFillPrice}, permId: {permId}, parentId: {parentId}, lastFillPrice: {lastFillPrice}, clientId: {clientId}, whyHeld: {whyHeld}, mktCapPrice: {mktCapPrice}\")\n",
    "        print('orderStatus - orderid:', orderId, 'status:', status, 'filled', filled, 'remaining', remaining, 'lastFillPrice', lastFillPrice)\n",
    "    \n",
    "    def execDetails(self, reqId, contract, execution):\n",
    "        #print(f\"reqId: {reqId}, contract: {contract}, execution: {execution}\")\n",
    "        print('Order Executed: ', reqId, contract.symbol, contract.secType, contract.currency, execution.execId, execution.orderId, execution.shares, execution.lastLiquidity)\n",
    "\n",
    "    def tickPrice(self, reqId, tickType, price, attrib):\n",
    "        if tickType == 2 and reqId == 1:\n",
    "            self.ask1.append(price)\n",
    "            #print('The last ask price for IJH is: ', self.ask1[-1])\n",
    "            try:\n",
    "                self.r1.append( self.ask1[-1] / self.ask1[-2])\n",
    "            except:\n",
    "                pass\n",
    "            try:\n",
    "                print('The return for IJH is', self.r1[-1])\n",
    "            except:\n",
    "                pass\n",
    "        \n",
    "        if tickType == 2 and reqId == 2:\n",
    "            self.ask2.append(price)\n",
    "            #print('The last ask price for MDY is: ', self.ask1[-1])\n",
    "            try:\n",
    "                self.r2.append( self.ask2[-1] / self.ask2[-2])\n",
    "            except:\n",
    "                pass\n",
    "            try:\n",
    "                print('The return for MDY is', self.r2[-1])\n",
    "            except:\n",
    "                pass\n",
    "            \n",
    "    def Stock_contract(self, symbol, secType='STK', exchange='SMART', currency='USD'):\n",
    "        ''' custom function to create contract '''\n",
    "        contract = Contract()\n",
    "        contract.symbol = symbol\n",
    "        contract.secType = secType\n",
    "        contract.exchange = exchange\n",
    "        contract.currency = currency\n",
    "        return contract\n",
    "        \n",
    "    def error_handler(msg):\n",
    "        print(msg)\n",
    "        \n",
    "def submit_order(contract, direction, qty=100, ordertype='MKT', transmit=True):\n",
    "    #Create order object\n",
    "    order = Order()\n",
    "    order.action = direction\n",
    "    order.totalQuantity = qty\n",
    "    order.orderType = ordertype\n",
    "    order.transmit = transmit\n",
    "    #submit order\n",
    "    app.placeOrder(app.nextorderId, contract, order)\n",
    "    app.nextorderId += 1\n",
    "\n",
    "def MKTorder(action,n):\n",
    "    order = Order()\n",
    "    order.action = action\n",
    "    order.totalQuantity = n\n",
    "    order.orderType = 'MKT'\n",
    "    order.eTradeOnly = False\n",
    "    order.firmQuoteOnly = False\n",
    "    return order\n",
    "    \n",
    "def run_loop():\n",
    "    app.run()\n"
   ]
  },
  {
   "cell_type": "code",
   "execution_count": 110,
   "id": "d6b324e9",
   "metadata": {},
   "outputs": [],
   "source": [
    "# Contracts\n",
    "def stockContract(tag):\n",
    "    contract = Contract()\n",
    "    contract.symbol = tag\n",
    "    contract.secType = 'STK'\n",
    "    contract.exchange = 'SMART'\n",
    "    contract.currency = 'USD'\n",
    "    \n",
    "    return contract"
   ]
  },
  {
   "cell_type": "code",
   "execution_count": 188,
   "id": "6a9ff223",
   "metadata": {},
   "outputs": [],
   "source": [
    "contract_l = []\n",
    "for i in index_pairs_l:\n",
    "    for j in range(2):\n",
    "        contract_l.append(stockContract(i[j]))"
   ]
  },
  {
   "cell_type": "code",
   "execution_count": 189,
   "id": "c690f540",
   "metadata": {},
   "outputs": [
    {
     "data": {
      "text/plain": [
       "[1690452288224: 0,IJH,STK,,0.0,,,SMART,,USD,,,False,,combo:,\n",
       " 1690452288320: 0,MDY,STK,,0.0,,,SMART,,USD,,,False,,combo:,\n",
       " 1690452289184: 0,IYY,STK,,0.0,,,SMART,,USD,,,False,,combo:,\n",
       " 1690452291488: 0,SPY,STK,,0.0,,,SMART,,USD,,,False,,combo:,\n",
       " 1690452288416: 0,OEF,STK,,0.0,,,SMART,,USD,,,False,,combo:,\n",
       " 1690452290240: 0,QQQ,STK,,0.0,,,SMART,,USD,,,False,,combo:,\n",
       " 1690452290384: 0,IWM,STK,,0.0,,,SMART,,USD,,,False,,combo:,\n",
       " 1690452290960: 0,IWO,STK,,0.0,,,SMART,,USD,,,False,,combo:,\n",
       " 1690450143984: 0,IYE,STK,,0.0,,,SMART,,USD,,,False,,combo:,\n",
       " 1690450142784: 0,VDE,STK,,0.0,,,SMART,,USD,,,False,,combo:,\n",
       " 1690450143456: 0,XLE,STK,,0.0,,,SMART,,USD,,,False,,combo:,\n",
       " 1690450145088: 0,IYE,STK,,0.0,,,SMART,,USD,,,False,,combo:,\n",
       " 1690450144176: 0,XLF,STK,,0.0,,,SMART,,USD,,,False,,combo:,\n",
       " 1690450144800: 0,VFH,STK,,0.0,,,SMART,,USD,,,False,,combo:,\n",
       " 1690450142544: 0,XLV,STK,,0.0,,,SMART,,USD,,,False,,combo:,\n",
       " 1690450142208: 0,VHT,STK,,0.0,,,SMART,,USD,,,False,,combo:]"
      ]
     },
     "execution_count": 189,
     "metadata": {},
     "output_type": "execute_result"
    }
   ],
   "source": [
    "contract_l"
   ]
  },
  {
   "cell_type": "code",
   "execution_count": 229,
   "id": "71765e1e",
   "metadata": {},
   "outputs": [],
   "source": [
    "# stock tags in a simple list\n",
    "tags_l = [element for sublist in index_pairs_l for element in sublist]\n",
    "\n",
    "# Historical Returns\n",
    "returns = uni_daily_returns_df[tags_l]\n",
    "# IJH_min_r and MDY_min_r, both np.array"
   ]
  },
  {
   "cell_type": "code",
   "execution_count": 223,
   "id": "68288406",
   "metadata": {},
   "outputs": [
    {
     "name": "stderr",
     "output_type": "stream",
     "text": [
      "ERROR -1 2104 Market data farm connection is OK:usbond\n",
      "ERROR -1 2104 Market data farm connection is OK:usfarm.nj\n",
      "ERROR -1 2104 Market data farm connection is OK:cashfarm\n",
      "ERROR -1 2104 Market data farm connection is OK:usopt\n",
      "ERROR -1 2104 Market data farm connection is OK:usfarm\n",
      "ERROR -1 2106 HMDS data farm connection is OK:euhmds\n",
      "ERROR -1 2106 HMDS data farm connection is OK:ushmds.nj\n",
      "ERROR -1 2106 HMDS data farm connection is OK:fundfarm\n",
      "ERROR -1 2106 HMDS data farm connection is OK:ushmds\n",
      "ERROR -1 2158 Sec-def data farm connection is OK:secdefil\n"
     ]
    },
    {
     "name": "stdout",
     "output_type": "stream",
     "text": [
      "The next valid order id is:  165\n"
     ]
    }
   ],
   "source": [
    "# Establish Connection \n",
    "app = IBapi()\n",
    "app.connect('127.0.0.1', 7450, 999)\n",
    "\n",
    "#Start the socket in a thread\n",
    "api_thread = threading.Thread(target=run_loop, daemon=True)\n",
    "api_thread.start()"
   ]
  },
  {
   "cell_type": "code",
   "execution_count": 224,
   "id": "0a41f698",
   "metadata": {},
   "outputs": [],
   "source": [
    "reqId = 1"
   ]
  },
  {
   "cell_type": "code",
   "execution_count": 225,
   "id": "8485fac1",
   "metadata": {},
   "outputs": [
    {
     "name": "stdout",
     "output_type": "stream",
     "text": [
      "Added a return\n",
      "Successfully got data of reqID 1\n",
      "Added a return\n",
      "Successfully got data of reqID 2\n",
      "Added a return\n",
      "Successfully got data of reqID 3\n",
      "Added a return\n",
      "Successfully got data of reqID 4\n",
      "Added a return\n",
      "Successfully got data of reqID 5\n",
      "Added a return\n",
      "Successfully got data of reqID 6\n",
      "Added a return\n",
      "Successfully got data of reqID 7\n",
      "Added a return\n",
      "Successfully got data of reqID 8\n",
      "Added a return\n",
      "Successfully got data of reqID 9\n",
      "Added a return\n",
      "Successfully got data of reqID 10\n",
      "Added a return\n",
      "Successfully got data of reqID 11\n",
      "Added a return\n",
      "Successfully got data of reqID 12\n",
      "Added a return\n",
      "Successfully got data of reqID 13\n",
      "Added a return\n",
      "Successfully got data of reqID 14\n",
      "Added a return\n",
      "Successfully got data of reqID 15\n",
      "Added a return\n",
      "Successfully got data of reqID 16\n"
     ]
    }
   ],
   "source": [
    "# Request today's closing price and update the prices to the return dataframe\n",
    "for i in range(len(contract_l)):\n",
    "    app.reqHistoricalData(reqId, contract_l[i], \"\", \"1 D\", \"1 day\", \"MIDPOINT\", 0, 1, False, [])\n",
    "    reqId += 1\n",
    "    time.sleep(1)"
   ]
  },
  {
   "cell_type": "code",
   "execution_count": 226,
   "id": "7846e70b",
   "metadata": {},
   "outputs": [
    {
     "data": {
      "text/plain": [
       "0"
      ]
     },
     "execution_count": 226,
     "metadata": {},
     "output_type": "execute_result"
    }
   ],
   "source": [
    "len(app.returns_l) - len(contract_l)"
   ]
  },
  {
   "cell_type": "code",
   "execution_count": 227,
   "id": "a9a92d0e",
   "metadata": {},
   "outputs": [],
   "source": [
    "new_returns = app.returns_l[:]"
   ]
  },
  {
   "cell_type": "code",
   "execution_count": 222,
   "id": "6faea64e",
   "metadata": {},
   "outputs": [],
   "source": [
    "app.disconnect()"
   ]
  },
  {
   "cell_type": "code",
   "execution_count": 237,
   "id": "413217cf",
   "metadata": {},
   "outputs": [
    {
     "name": "stderr",
     "output_type": "stream",
     "text": [
      "C:\\Users\\12451\\AppData\\Local\\Programs\\Python\\Python39\\lib\\site-packages\\pandas\\core\\indexing.py:723: SettingWithCopyWarning: \n",
      "A value is trying to be set on a copy of a slice from a DataFrame\n",
      "\n",
      "See the caveats in the documentation: https://pandas.pydata.org/pandas-docs/stable/user_guide/indexing.html#returning-a-view-versus-a-copy\n",
      "  iloc._setitem_with_indexer(indexer, value, self.name)\n"
     ]
    }
   ],
   "source": [
    "# Update the new returns\n",
    "today = date.today()\n",
    "returns.loc[str(today)] = new_returns"
   ]
  },
  {
   "cell_type": "markdown",
   "id": "48bce665",
   "metadata": {},
   "source": [
    "# Calculate conditional probabilities"
   ]
  },
  {
   "cell_type": "code",
   "execution_count": 263,
   "id": "4f0eff8b",
   "metadata": {},
   "outputs": [],
   "source": [
    "pairs_probs_l = []\n",
    "for i in index_pairs_l:\n",
    "    temp = tCopProbs(i).tail(1)\n",
    "    pairs_probs_l.append(np.array(temp)[0])"
   ]
  },
  {
   "cell_type": "code",
   "execution_count": 264,
   "id": "8aae0c90",
   "metadata": {},
   "outputs": [
    {
     "data": {
      "text/plain": [
       "[array([0.53488732, 0.46206725]),\n",
       " array([0.40418394, 0.58965829]),\n",
       " array([0.86237597, 0.13616385]),\n",
       " array([0.48469557, 0.50647605]),\n",
       " array([0.85171589, 0.1733772 ]),\n",
       " array([0.28054229, 0.75752789]),\n",
       " array([0.43550167, 0.54483422]),\n",
       " array([0.24217436, 0.80075749])]"
      ]
     },
     "execution_count": 264,
     "metadata": {},
     "output_type": "execute_result"
    }
   ],
   "source": [
    "pairs_probs_l"
   ]
  },
  {
   "cell_type": "code",
   "execution_count": 265,
   "id": "3f766371",
   "metadata": {},
   "outputs": [
    {
     "data": {
      "text/plain": [
       "[['IJH', 'MDY'],\n",
       " ['IYY', 'SPY'],\n",
       " ['OEF', 'QQQ'],\n",
       " ['IWM', 'IWO'],\n",
       " ['IYE', 'VDE'],\n",
       " ['XLE', 'IYE'],\n",
       " ['XLF', 'VFH'],\n",
       " ['XLV', 'VHT']]"
      ]
     },
     "execution_count": 265,
     "metadata": {},
     "output_type": "execute_result"
    }
   ],
   "source": [
    "index_pairs_l"
   ]
  },
  {
   "cell_type": "markdown",
   "id": "c0d02985",
   "metadata": {},
   "source": [
    "# Trade"
   ]
  },
  {
   "cell_type": "code",
   "execution_count": 282,
   "id": "71b401b8",
   "metadata": {},
   "outputs": [],
   "source": [
    "shares = [[200, 109], [498, 121], [264, 156], [288, 225], [1138, 434], [595, 1138.17], [1526, 636], [378, 243.56]]"
   ]
  },
  {
   "cell_type": "code",
   "execution_count": 297,
   "id": "f620c330",
   "metadata": {},
   "outputs": [
    {
     "name": "stderr",
     "output_type": "stream",
     "text": [
      "ERROR -1 2104 Market data farm connection is OK:usfarm.nj\n",
      "ERROR -1 2104 Market data farm connection is OK:cashfarm\n",
      "ERROR -1 2104 Market data farm connection is OK:usopt\n",
      "ERROR -1 2104 Market data farm connection is OK:usfarm\n"
     ]
    },
    {
     "name": "stdout",
     "output_type": "stream",
     "text": [
      "The next valid order id is:  165\n"
     ]
    },
    {
     "name": "stderr",
     "output_type": "stream",
     "text": [
      "ERROR -1 2106 HMDS data farm connection is OK:euhmds\n",
      "ERROR -1 2106 HMDS data farm connection is OK:ushmds.nj\n",
      "ERROR -1 2106 HMDS data farm connection is OK:fundfarm\n",
      "ERROR -1 2106 HMDS data farm connection is OK:ushmds\n",
      "ERROR -1 2158 Sec-def data farm connection is OK:secdefil\n"
     ]
    }
   ],
   "source": [
    "# Establish Connection \n",
    "app = IBapi()\n",
    "app.connect('127.0.0.1', 7450, 999)\n",
    "\n",
    "#Start the socket in a thread\n",
    "api_thread = threading.Thread(target=run_loop, daemon=True)\n",
    "api_thread.start()"
   ]
  },
  {
   "cell_type": "code",
   "execution_count": 298,
   "id": "0928b01e",
   "metadata": {},
   "outputs": [
    {
     "name": "stdout",
     "output_type": "stream",
     "text": [
      "Trade Ended\n"
     ]
    }
   ],
   "source": [
    "for i in range(0, len(pairs_probs_l), 2):\n",
    "    hedge_ratio = kentall_tau_l[i]\n",
    "    if(pairs_probs_l[i][0] <= 0.21 and pairs_probs_l[i+1][1] >= 0.79):\n",
    "        # Long the first ETF in of the pair and short the second ETF\n",
    "        app.placeOrder(app.nextorderId, contract_l[i], MKTorder('BUY', shares[i/2][0]))\n",
    "        app.nextorderId += 1\n",
    "        app.placeOrder(app.nextorderId, contract_l[i+1], MKTorder('SELL', shares[i/2][1]))\n",
    "        app.nextorderId += 1\n",
    "    elif(pairs_probs_l[i][0] >= 0.79 and pairs_probs_l[i+1][1] <= 0.21):\n",
    "        # Short the first ETF, long the second\n",
    "        app.placeOrder(app.nextorderId, contract_l[i], MKTorder('SELL', shares[i/2][0]))\n",
    "        app.nextorderId += 1\n",
    "        app.placeOrder(app.nextorderId, contract_l[i+1], MKTorder('BUY', shares[i/2][1]))\n",
    "        app.nextorderId += 1\n",
    "print(\"Trade Ended\")\n",
    "app.disconnect()"
   ]
  },
  {
   "cell_type": "code",
   "execution_count": 296,
   "id": "8109def3",
   "metadata": {},
   "outputs": [],
   "source": [
    "app.disconnect()"
   ]
  }
 ],
 "metadata": {
  "kernelspec": {
   "display_name": "Python 3 (ipykernel)",
   "language": "python",
   "name": "python3"
  },
  "language_info": {
   "codemirror_mode": {
    "name": "ipython",
    "version": 3
   },
   "file_extension": ".py",
   "mimetype": "text/x-python",
   "name": "python",
   "nbconvert_exporter": "python",
   "pygments_lexer": "ipython3",
   "version": "3.9.7"
  }
 },
 "nbformat": 4,
 "nbformat_minor": 5
}
